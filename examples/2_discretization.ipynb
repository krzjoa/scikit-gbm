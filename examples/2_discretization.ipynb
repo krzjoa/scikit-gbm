{
 "cells": [
  {
   "cell_type": "markdown",
   "id": "fc79b4a8",
   "metadata": {},
   "source": [
    "# Discretizing features with gradient boosted tree ensemble"
   ]
  },
  {
   "cell_type": "code",
   "execution_count": 13,
   "id": "5389c8ea",
   "metadata": {},
   "outputs": [],
   "source": [
    "import pandas as pd\n",
    "from sklearn.model_selection import train_test_split\n",
    "from feature_engine.discretisation import DecisionTreeDiscretiser"
   ]
  },
  {
   "cell_type": "code",
   "execution_count": null,
   "id": "513a08ac",
   "metadata": {},
   "outputs": [],
   "source": [
    "## Compare\n",
    "* https://feature-engine.trainindata.com/en/1.0.x/discretisation/DecisionTreeDiscretiser.html\n",
    "* https://scikit-learn.org/stable/modules/generated/sklearn.preprocessing.KBinsDiscretizer.html#sklearn.preprocessing.KBinsDiscretizer\n",
    "    "
   ]
  },
  {
   "cell_type": "markdown",
   "id": "3bba874b",
   "metadata": {},
   "source": [
    "## Dataset"
   ]
  },
  {
   "cell_type": "code",
   "execution_count": 4,
   "id": "004ff00f",
   "metadata": {},
   "outputs": [
    {
     "name": "stdout",
     "output_type": "stream",
     "text": [
      "Defaulting to user installation because normal site-packages is not writeable\n",
      "Collecting xlrd\n",
      "  Downloading xlrd-2.0.1-py2.py3-none-any.whl (96 kB)\n",
      "     |████████████████████████████████| 96 kB 776 kB/s            \n",
      "\u001b[?25hInstalling collected packages: xlrd\n",
      "Successfully installed xlrd-2.0.1\n",
      "\u001b[33mWARNING: You are using pip version 21.3.1; however, version 23.1.2 is available.\n",
      "You should consider upgrading via the '/usr/bin/python3.8 -m pip install --upgrade pip' command.\u001b[0m\n"
     ]
    }
   ],
   "source": [
    "!pip install xlrd"
   ]
  },
  {
   "cell_type": "code",
   "execution_count": 5,
   "id": "74ee94ae",
   "metadata": {},
   "outputs": [],
   "source": [
    "URL = 'http://jse.amstat.org/v19n3/decock/AmesHousing.xls'\n",
    "house_prices = pd.read_excel(URL)"
   ]
  },
  {
   "cell_type": "code",
   "execution_count": 16,
   "id": "8880f128",
   "metadata": {},
   "outputs": [
    {
     "data": {
      "text/plain": [
       "Index(['Order', 'PID', 'MS SubClass', 'MS Zoning', 'Lot Frontage', 'Lot Area',\n",
       "       'Street', 'Alley', 'Lot Shape', 'Land Contour', 'Utilities',\n",
       "       'Lot Config', 'Land Slope', 'Neighborhood', 'Condition 1',\n",
       "       'Condition 2', 'Bldg Type', 'House Style', 'Overall Qual',\n",
       "       'Overall Cond', 'Year Built', 'Year Remod/Add', 'Roof Style',\n",
       "       'Roof Matl', 'Exterior 1st', 'Exterior 2nd', 'Mas Vnr Type',\n",
       "       'Mas Vnr Area', 'Exter Qual', 'Exter Cond', 'Foundation', 'Bsmt Qual',\n",
       "       'Bsmt Cond', 'Bsmt Exposure', 'BsmtFin Type 1', 'BsmtFin SF 1',\n",
       "       'BsmtFin Type 2', 'BsmtFin SF 2', 'Bsmt Unf SF', 'Total Bsmt SF',\n",
       "       'Heating', 'Heating QC', 'Central Air', 'Electrical', '1st Flr SF',\n",
       "       '2nd Flr SF', 'Low Qual Fin SF', 'Gr Liv Area', 'Bsmt Full Bath',\n",
       "       'Bsmt Half Bath', 'Full Bath', 'Half Bath', 'Bedroom AbvGr',\n",
       "       'Kitchen AbvGr', 'Kitchen Qual', 'TotRms AbvGrd', 'Functional',\n",
       "       'Fireplaces', 'Fireplace Qu', 'Garage Type', 'Garage Yr Blt',\n",
       "       'Garage Finish', 'Garage Cars', 'Garage Area', 'Garage Qual',\n",
       "       'Garage Cond', 'Paved Drive', 'Wood Deck SF', 'Open Porch SF',\n",
       "       'Enclosed Porch', '3Ssn Porch', 'Screen Porch', 'Pool Area', 'Pool QC',\n",
       "       'Fence', 'Misc Feature', 'Misc Val', 'Mo Sold', 'Yr Sold', 'Sale Type',\n",
       "       'Sale Condition', 'SalePrice'],\n",
       "      dtype='object')"
      ]
     },
     "execution_count": 16,
     "metadata": {},
     "output_type": "execute_result"
    }
   ],
   "source": [
    "house_prices.columns"
   ]
  },
  {
   "cell_type": "code",
   "execution_count": 14,
   "id": "d7c82dd2",
   "metadata": {},
   "outputs": [],
   "source": [
    "# Separate into train and test sets\n",
    "X_train, X_test, y_train, y_test =  train_test_split(\n",
    "            house_prices.drop(['Order', 'PID', 'SalePrice'], axis=1),\n",
    "            house_prices['SalePrice'], test_size=0.3, random_state=0)"
   ]
  },
  {
   "cell_type": "code",
   "execution_count": 17,
   "id": "85765a0c",
   "metadata": {},
   "outputs": [
    {
     "data": {
      "text/plain": [
       "{'Lot Area': GridSearchCV(cv=3, estimator=DecisionTreeRegressor(),\n",
       "              param_grid={'max_depth': [1, 2, 3, 4]},\n",
       "              scoring='neg_mean_squared_error'),\n",
       " 'Gr Liv Area': GridSearchCV(cv=3, estimator=DecisionTreeRegressor(),\n",
       "              param_grid={'max_depth': [1, 2, 3, 4]},\n",
       "              scoring='neg_mean_squared_error')}"
      ]
     },
     "execution_count": 17,
     "metadata": {},
     "output_type": "execute_result"
    }
   ],
   "source": [
    "# set up the discretisation transformer\n",
    "disc = DecisionTreeDiscretiser(cv=3,\n",
    "                          scoring='neg_mean_squared_error',\n",
    "                          variables=['Lot Area', 'Gr Liv Area'],\n",
    "                          regression=True)\n",
    "\n",
    "# fit the transformer\n",
    "disc.fit(X_train, y_train)\n",
    "\n",
    "# transform the data\n",
    "train_t= disc.transform(X_train)\n",
    "test_t= disc.transform(X_test)\n",
    "\n",
    "disc.binner_dict_"
   ]
  },
  {
   "cell_type": "code",
   "execution_count": 20,
   "id": "aeddc1f4",
   "metadata": {},
   "outputs": [
    {
     "data": {
      "text/plain": [
       "1928    212915.490506\n",
       "2497    174893.294910\n",
       "261     174893.294910\n",
       "1775    174893.294910\n",
       "2587    174893.294910\n",
       "            ...      \n",
       "763     174893.294910\n",
       "835     212915.490506\n",
       "1653    212915.490506\n",
       "2607    212915.490506\n",
       "2732    174893.294910\n",
       "Name: Lot Area, Length: 2051, dtype: float64"
      ]
     },
     "execution_count": 20,
     "metadata": {},
     "output_type": "execute_result"
    }
   ],
   "source": [
    "train_t['Lot Area']"
   ]
  },
  {
   "cell_type": "code",
   "execution_count": 8,
   "id": "6f872787",
   "metadata": {},
   "outputs": [
    {
     "data": {
      "text/plain": [
       "(4, 12)"
      ]
     },
     "execution_count": 8,
     "metadata": {},
     "output_type": "execute_result"
    }
   ],
   "source": [
    "from sklearn.preprocessing import KBinsDiscretizer\n",
    "X = [[-2, 1, -4,   -1],\n",
    "      [-1, 2, -3, -0.5],\n",
    "      [ 0, 3, -2,  0.5],\n",
    "      [ 1, 4, -1,    2]]\n",
    "est = KBinsDiscretizer(n_bins=3, encode='onehot', strategy='uniform')\n",
    "est.fit(X)\n",
    "\n",
    "Xt = est.transform(X)\n",
    "Xt.shape  "
   ]
  },
  {
   "cell_type": "code",
   "execution_count": null,
   "id": "e9a030da",
   "metadata": {},
   "outputs": [],
   "source": []
  }
 ],
 "metadata": {
  "kernelspec": {
   "display_name": "Python 3 (ipykernel)",
   "language": "python",
   "name": "python3"
  },
  "language_info": {
   "codemirror_mode": {
    "name": "ipython",
    "version": 3
   },
   "file_extension": ".py",
   "mimetype": "text/x-python",
   "name": "python",
   "nbconvert_exporter": "python",
   "pygments_lexer": "ipython3",
   "version": "3.8.10"
  }
 },
 "nbformat": 4,
 "nbformat_minor": 5
}
