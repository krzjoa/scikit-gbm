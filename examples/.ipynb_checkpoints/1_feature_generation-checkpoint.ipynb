{
 "cells": [
  {
   "cell_type": "markdown",
   "id": "322fcb13",
   "metadata": {},
   "source": [
    "# Feature generation with gradient boosted decision trees"
   ]
  },
  {
   "cell_type": "markdown",
   "id": "261a7905",
   "metadata": {},
   "source": [
    "## Classification"
   ]
  },
  {
   "cell_type": "code",
   "execution_count": 4,
   "id": "fc8cb6a3",
   "metadata": {},
   "outputs": [],
   "source": [
    "from sklearn.datasets import make_classification\n",
    "from sklearn.pipeline import Pipeline\n",
    "from sklearn.linear_model import LogisticRegression\n",
    "\n",
    "from skgbm.preprocessing import GBMFeaturizer"
   ]
  },
  {
   "cell_type": "code",
   "execution_count": null,
   "id": "b01eb1f4",
   "metadata": {},
   "outputs": [],
   "source": [
    "pipeline = \\\n",
    "    Pipeline([\n",
    "        ('gbm_featurizer', GBMFeaturizer()),\n",
    "        ('logistic_regression', LogisticRegression())\n",
    "    ])"
   ]
  }
 ],
 "metadata": {
  "kernelspec": {
   "display_name": "Python 3 (ipykernel)",
   "language": "python",
   "name": "python3"
  },
  "language_info": {
   "codemirror_mode": {
    "name": "ipython",
    "version": 3
   },
   "file_extension": ".py",
   "mimetype": "text/x-python",
   "name": "python",
   "nbconvert_exporter": "python",
   "pygments_lexer": "ipython3",
   "version": "3.8.10"
  }
 },
 "nbformat": 4,
 "nbformat_minor": 5
}
